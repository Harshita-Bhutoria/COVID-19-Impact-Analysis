{
 "cells": [
  {
   "cell_type": "code",
   "execution_count": 1,
   "id": "5414be2f-a4b7-4eba-b382-8cf896d45031",
   "metadata": {},
   "outputs": [],
   "source": [
    "# Here we will be focusing on Global Covid-19 data so below 3 files will be focuse from the datset"
   ]
  },
  {
   "cell_type": "code",
   "execution_count": 2,
   "id": "7bc3be04-9f61-4595-8f19-528829d481cb",
   "metadata": {},
   "outputs": [],
   "source": [
    "import pandas as pd\n",
    "import numpy as np"
   ]
  },
  {
   "cell_type": "code",
   "execution_count": 3,
   "id": "0381bd8f-0132-4bc7-b5fd-5209dd8c424f",
   "metadata": {},
   "outputs": [
    {
     "name": "stdout",
     "output_type": "stream",
     "text": [
      "<class 'pandas.core.frame.DataFrame'>\n",
      "RangeIndex: 276 entries, 0 to 275\n",
      "Columns: 498 entries, Province/State to 5/29/21\n",
      "dtypes: float64(2), int64(494), object(2)\n",
      "memory usage: 1.0+ MB\n",
      "<class 'pandas.core.frame.DataFrame'>\n",
      "RangeIndex: 276 entries, 0 to 275\n",
      "Columns: 498 entries, Province/State to 5/29/21\n",
      "dtypes: float64(2), int64(494), object(2)\n",
      "memory usage: 1.0+ MB\n",
      "<class 'pandas.core.frame.DataFrame'>\n",
      "RangeIndex: 261 entries, 0 to 260\n",
      "Columns: 498 entries, Province/State to 5/29/21\n",
      "dtypes: float64(2), int64(494), object(2)\n",
      "memory usage: 1015.6+ KB\n"
     ]
    }
   ],
   "source": [
    "confirmed_df = pd.read_csv(\"C:\\\\Users\\\\harsh\\\\OneDrive\\\\Desktop\\\\Data Sets\\\\Covid-19\\\\time_series_covid_19_confirmed.csv\")\n",
    "deaths_df = pd.read_csv(\"C:\\\\Users\\\\harsh\\\\OneDrive\\\\Desktop\\\\Data Sets\\\\Covid-19\\\\time_series_covid_19_deaths.csv\")\n",
    "recovered_df = pd.read_csv(\"C:\\\\Users\\\\harsh\\\\OneDrive\\\\Desktop\\\\Data Sets\\\\Covid-19\\\\time_series_covid_19_recovered.csv\")\n",
    "\n",
    "confirmed_df.info()\n",
    "deaths_df.info()\n",
    "recovered_df.info()"
   ]
  },
  {
   "cell_type": "code",
   "execution_count": 4,
   "id": "232d0768-b779-485a-b579-96df71f49f73",
   "metadata": {},
   "outputs": [
    {
     "data": {
      "text/html": [
       "<div>\n",
       "<style scoped>\n",
       "    .dataframe tbody tr th:only-of-type {\n",
       "        vertical-align: middle;\n",
       "    }\n",
       "\n",
       "    .dataframe tbody tr th {\n",
       "        vertical-align: top;\n",
       "    }\n",
       "\n",
       "    .dataframe thead th {\n",
       "        text-align: right;\n",
       "    }\n",
       "</style>\n",
       "<table border=\"1\" class=\"dataframe\">\n",
       "  <thead>\n",
       "    <tr style=\"text-align: right;\">\n",
       "      <th></th>\n",
       "      <th>Province/State</th>\n",
       "      <th>Country/Region</th>\n",
       "      <th>Lat</th>\n",
       "      <th>Long</th>\n",
       "      <th>1/22/20</th>\n",
       "      <th>1/23/20</th>\n",
       "      <th>1/24/20</th>\n",
       "      <th>1/25/20</th>\n",
       "      <th>1/26/20</th>\n",
       "      <th>1/27/20</th>\n",
       "      <th>...</th>\n",
       "      <th>5/20/21</th>\n",
       "      <th>5/21/21</th>\n",
       "      <th>5/22/21</th>\n",
       "      <th>5/23/21</th>\n",
       "      <th>5/24/21</th>\n",
       "      <th>5/25/21</th>\n",
       "      <th>5/26/21</th>\n",
       "      <th>5/27/21</th>\n",
       "      <th>5/28/21</th>\n",
       "      <th>5/29/21</th>\n",
       "    </tr>\n",
       "  </thead>\n",
       "  <tbody>\n",
       "    <tr>\n",
       "      <th>0</th>\n",
       "      <td>NaN</td>\n",
       "      <td>Afghanistan</td>\n",
       "      <td>33.93911</td>\n",
       "      <td>67.709953</td>\n",
       "      <td>0</td>\n",
       "      <td>0</td>\n",
       "      <td>0</td>\n",
       "      <td>0</td>\n",
       "      <td>0</td>\n",
       "      <td>0</td>\n",
       "      <td>...</td>\n",
       "      <td>64575</td>\n",
       "      <td>65080</td>\n",
       "      <td>65486</td>\n",
       "      <td>65728</td>\n",
       "      <td>66275</td>\n",
       "      <td>66903</td>\n",
       "      <td>67743</td>\n",
       "      <td>68366</td>\n",
       "      <td>69130</td>\n",
       "      <td>70111</td>\n",
       "    </tr>\n",
       "  </tbody>\n",
       "</table>\n",
       "<p>1 rows × 498 columns</p>\n",
       "</div>"
      ],
      "text/plain": [
       "  Province/State Country/Region       Lat       Long  1/22/20  1/23/20  \\\n",
       "0            NaN    Afghanistan  33.93911  67.709953        0        0   \n",
       "\n",
       "   1/24/20  1/25/20  1/26/20  1/27/20  ...  5/20/21  5/21/21  5/22/21  \\\n",
       "0        0        0        0        0  ...    64575    65080    65486   \n",
       "\n",
       "   5/23/21  5/24/21  5/25/21  5/26/21  5/27/21  5/28/21  5/29/21  \n",
       "0    65728    66275    66903    67743    68366    69130    70111  \n",
       "\n",
       "[1 rows x 498 columns]"
      ]
     },
     "execution_count": 4,
     "metadata": {},
     "output_type": "execute_result"
    }
   ],
   "source": [
    "confirmed_df.head(1)"
   ]
  },
  {
   "cell_type": "code",
   "execution_count": 5,
   "id": "e9fa6276-12e7-4661-a704-bd6b7a1f81fb",
   "metadata": {},
   "outputs": [
    {
     "data": {
      "text/html": [
       "<div>\n",
       "<style scoped>\n",
       "    .dataframe tbody tr th:only-of-type {\n",
       "        vertical-align: middle;\n",
       "    }\n",
       "\n",
       "    .dataframe tbody tr th {\n",
       "        vertical-align: top;\n",
       "    }\n",
       "\n",
       "    .dataframe thead th {\n",
       "        text-align: right;\n",
       "    }\n",
       "</style>\n",
       "<table border=\"1\" class=\"dataframe\">\n",
       "  <thead>\n",
       "    <tr style=\"text-align: right;\">\n",
       "      <th></th>\n",
       "      <th>Province/State</th>\n",
       "      <th>Country/Region</th>\n",
       "      <th>Lat</th>\n",
       "      <th>Long</th>\n",
       "      <th>1/22/20</th>\n",
       "      <th>1/23/20</th>\n",
       "      <th>1/24/20</th>\n",
       "      <th>1/25/20</th>\n",
       "      <th>1/26/20</th>\n",
       "      <th>1/27/20</th>\n",
       "      <th>...</th>\n",
       "      <th>5/20/21</th>\n",
       "      <th>5/21/21</th>\n",
       "      <th>5/22/21</th>\n",
       "      <th>5/23/21</th>\n",
       "      <th>5/24/21</th>\n",
       "      <th>5/25/21</th>\n",
       "      <th>5/26/21</th>\n",
       "      <th>5/27/21</th>\n",
       "      <th>5/28/21</th>\n",
       "      <th>5/29/21</th>\n",
       "    </tr>\n",
       "  </thead>\n",
       "  <tbody>\n",
       "    <tr>\n",
       "      <th>0</th>\n",
       "      <td>NaN</td>\n",
       "      <td>Afghanistan</td>\n",
       "      <td>33.93911</td>\n",
       "      <td>67.709953</td>\n",
       "      <td>0</td>\n",
       "      <td>0</td>\n",
       "      <td>0</td>\n",
       "      <td>0</td>\n",
       "      <td>0</td>\n",
       "      <td>0</td>\n",
       "      <td>...</td>\n",
       "      <td>2772</td>\n",
       "      <td>2782</td>\n",
       "      <td>2792</td>\n",
       "      <td>2802</td>\n",
       "      <td>2812</td>\n",
       "      <td>2836</td>\n",
       "      <td>2855</td>\n",
       "      <td>2869</td>\n",
       "      <td>2881</td>\n",
       "      <td>2899</td>\n",
       "    </tr>\n",
       "  </tbody>\n",
       "</table>\n",
       "<p>1 rows × 498 columns</p>\n",
       "</div>"
      ],
      "text/plain": [
       "  Province/State Country/Region       Lat       Long  1/22/20  1/23/20  \\\n",
       "0            NaN    Afghanistan  33.93911  67.709953        0        0   \n",
       "\n",
       "   1/24/20  1/25/20  1/26/20  1/27/20  ...  5/20/21  5/21/21  5/22/21  \\\n",
       "0        0        0        0        0  ...     2772     2782     2792   \n",
       "\n",
       "   5/23/21  5/24/21  5/25/21  5/26/21  5/27/21  5/28/21  5/29/21  \n",
       "0     2802     2812     2836     2855     2869     2881     2899  \n",
       "\n",
       "[1 rows x 498 columns]"
      ]
     },
     "execution_count": 5,
     "metadata": {},
     "output_type": "execute_result"
    }
   ],
   "source": [
    "deaths_df.head(1)"
   ]
  },
  {
   "cell_type": "code",
   "execution_count": 6,
   "id": "733abbf6-41e0-4142-b774-47624340edcf",
   "metadata": {},
   "outputs": [
    {
     "data": {
      "text/html": [
       "<div>\n",
       "<style scoped>\n",
       "    .dataframe tbody tr th:only-of-type {\n",
       "        vertical-align: middle;\n",
       "    }\n",
       "\n",
       "    .dataframe tbody tr th {\n",
       "        vertical-align: top;\n",
       "    }\n",
       "\n",
       "    .dataframe thead th {\n",
       "        text-align: right;\n",
       "    }\n",
       "</style>\n",
       "<table border=\"1\" class=\"dataframe\">\n",
       "  <thead>\n",
       "    <tr style=\"text-align: right;\">\n",
       "      <th></th>\n",
       "      <th>Province/State</th>\n",
       "      <th>Country/Region</th>\n",
       "      <th>Lat</th>\n",
       "      <th>Long</th>\n",
       "      <th>1/22/20</th>\n",
       "      <th>1/23/20</th>\n",
       "      <th>1/24/20</th>\n",
       "      <th>1/25/20</th>\n",
       "      <th>1/26/20</th>\n",
       "      <th>1/27/20</th>\n",
       "      <th>...</th>\n",
       "      <th>5/20/21</th>\n",
       "      <th>5/21/21</th>\n",
       "      <th>5/22/21</th>\n",
       "      <th>5/23/21</th>\n",
       "      <th>5/24/21</th>\n",
       "      <th>5/25/21</th>\n",
       "      <th>5/26/21</th>\n",
       "      <th>5/27/21</th>\n",
       "      <th>5/28/21</th>\n",
       "      <th>5/29/21</th>\n",
       "    </tr>\n",
       "  </thead>\n",
       "  <tbody>\n",
       "    <tr>\n",
       "      <th>0</th>\n",
       "      <td>NaN</td>\n",
       "      <td>Afghanistan</td>\n",
       "      <td>33.93911</td>\n",
       "      <td>67.709953</td>\n",
       "      <td>0</td>\n",
       "      <td>0</td>\n",
       "      <td>0</td>\n",
       "      <td>0</td>\n",
       "      <td>0</td>\n",
       "      <td>0</td>\n",
       "      <td>...</td>\n",
       "      <td>55687</td>\n",
       "      <td>55790</td>\n",
       "      <td>55889</td>\n",
       "      <td>56035</td>\n",
       "      <td>56295</td>\n",
       "      <td>56518</td>\n",
       "      <td>56711</td>\n",
       "      <td>56962</td>\n",
       "      <td>57119</td>\n",
       "      <td>57281</td>\n",
       "    </tr>\n",
       "  </tbody>\n",
       "</table>\n",
       "<p>1 rows × 498 columns</p>\n",
       "</div>"
      ],
      "text/plain": [
       "  Province/State Country/Region       Lat       Long  1/22/20  1/23/20  \\\n",
       "0            NaN    Afghanistan  33.93911  67.709953        0        0   \n",
       "\n",
       "   1/24/20  1/25/20  1/26/20  1/27/20  ...  5/20/21  5/21/21  5/22/21  \\\n",
       "0        0        0        0        0  ...    55687    55790    55889   \n",
       "\n",
       "   5/23/21  5/24/21  5/25/21  5/26/21  5/27/21  5/28/21  5/29/21  \n",
       "0    56035    56295    56518    56711    56962    57119    57281  \n",
       "\n",
       "[1 rows x 498 columns]"
      ]
     },
     "execution_count": 6,
     "metadata": {},
     "output_type": "execute_result"
    }
   ],
   "source": [
    "recovered_df.head(1)"
   ]
  },
  {
   "cell_type": "code",
   "execution_count": 7,
   "id": "52e4b495-6698-4ffd-99f3-45885e7103a2",
   "metadata": {},
   "outputs": [],
   "source": [
    "# Reshape the data into long format\n",
    "confirmed_long = pd.melt(confirmed_df, id_vars=[\"Province/State\", \"Country/Region\", \"Lat\", \"Long\"], \n",
    "                         var_name=\"Date\", value_name=\"Confirmed\")\n",
    "deaths_long = pd.melt(deaths_df, id_vars=[\"Province/State\", \"Country/Region\", \"Lat\", \"Long\"], \n",
    "                      var_name=\"Date\", value_name=\"Deaths\")\n",
    "recovered_long = pd.melt(recovered_df, id_vars=[\"Province/State\", \"Country/Region\", \"Lat\", \"Long\"], \n",
    "                         var_name=\"Date\", value_name=\"Recovered\")"
   ]
  },
  {
   "cell_type": "code",
   "execution_count": 8,
   "id": "c1251ee6-c0be-4132-9736-b4f9e91a97d9",
   "metadata": {},
   "outputs": [
    {
     "name": "stdout",
     "output_type": "stream",
     "text": [
      "<class 'pandas.core.frame.DataFrame'>\n",
      "RangeIndex: 136344 entries, 0 to 136343\n",
      "Data columns (total 6 columns):\n",
      " #   Column          Non-Null Count   Dtype  \n",
      "---  ------          --------------   -----  \n",
      " 0   Province/State  42484 non-null   object \n",
      " 1   Country/Region  136344 non-null  object \n",
      " 2   Lat             135356 non-null  float64\n",
      " 3   Long            135356 non-null  float64\n",
      " 4   Date            136344 non-null  object \n",
      " 5   Confirmed       136344 non-null  int64  \n",
      "dtypes: float64(2), int64(1), object(3)\n",
      "memory usage: 6.2+ MB\n"
     ]
    }
   ],
   "source": [
    "confirmed_long.info()"
   ]
  },
  {
   "cell_type": "code",
   "execution_count": 9,
   "id": "31c27ab7-be59-4c2a-a27b-a7904bf54c53",
   "metadata": {},
   "outputs": [
    {
     "name": "stderr",
     "output_type": "stream",
     "text": [
      "C:\\Users\\harsh\\AppData\\Local\\Temp\\ipykernel_24444\\1523984407.py:2: UserWarning: Could not infer format, so each element will be parsed individually, falling back to `dateutil`. To ensure parsing is consistent and as-expected, please specify a format.\n",
      "  confirmed_long['Date'] = pd.to_datetime(confirmed_long['Date'])\n",
      "C:\\Users\\harsh\\AppData\\Local\\Temp\\ipykernel_24444\\1523984407.py:3: UserWarning: Could not infer format, so each element will be parsed individually, falling back to `dateutil`. To ensure parsing is consistent and as-expected, please specify a format.\n",
      "  deaths_long['Date'] = pd.to_datetime(deaths_long['Date'])\n",
      "C:\\Users\\harsh\\AppData\\Local\\Temp\\ipykernel_24444\\1523984407.py:4: UserWarning: Could not infer format, so each element will be parsed individually, falling back to `dateutil`. To ensure parsing is consistent and as-expected, please specify a format.\n",
      "  recovered_long['Date'] = pd.to_datetime(recovered_long['Date'])\n"
     ]
    }
   ],
   "source": [
    "# Convert 'Date' to datetime format\n",
    "confirmed_long['Date'] = pd.to_datetime(confirmed_long['Date'])\n",
    "deaths_long['Date'] = pd.to_datetime(deaths_long['Date'])\n",
    "recovered_long['Date'] = pd.to_datetime(recovered_long['Date'])"
   ]
  },
  {
   "cell_type": "code",
   "execution_count": 10,
   "id": "94e7d8c3-b2ec-439f-a4e3-28553229882a",
   "metadata": {},
   "outputs": [
    {
     "name": "stdout",
     "output_type": "stream",
     "text": [
      "<class 'pandas.core.frame.DataFrame'>\n",
      "RangeIndex: 136344 entries, 0 to 136343\n",
      "Data columns (total 6 columns):\n",
      " #   Column          Non-Null Count   Dtype         \n",
      "---  ------          --------------   -----         \n",
      " 0   Province/State  42484 non-null   object        \n",
      " 1   Country/Region  136344 non-null  object        \n",
      " 2   Lat             135356 non-null  float64       \n",
      " 3   Long            135356 non-null  float64       \n",
      " 4   Date            136344 non-null  datetime64[ns]\n",
      " 5   Confirmed       136344 non-null  int64         \n",
      "dtypes: datetime64[ns](1), float64(2), int64(1), object(2)\n",
      "memory usage: 6.2+ MB\n"
     ]
    }
   ],
   "source": [
    "confirmed_long.info()"
   ]
  },
  {
   "cell_type": "code",
   "execution_count": 11,
   "id": "7ed2cf1f-0096-46df-a4dc-9c7708f0f3d9",
   "metadata": {},
   "outputs": [],
   "source": [
    "# Merge the datasets on common columns (Country/Region, Date)\n",
    "merged_df = pd.merge(confirmed_long, deaths_long, on=[\"Province/State\", \"Country/Region\", \"Date\",\"Lat\",\"Long\"], how=\"outer\")\n",
    "merged_df = pd.merge(merged_df, recovered_long, on=[\"Province/State\", \"Country/Region\", \"Date\",\"Lat\",\"Long\"], how=\"outer\")\n"
   ]
  },
  {
   "cell_type": "code",
   "execution_count": 12,
   "id": "d7fc17d6-1635-40ea-b9c5-e7a0da0126a8",
   "metadata": {},
   "outputs": [
    {
     "name": "stdout",
     "output_type": "stream",
     "text": [
      "<class 'pandas.core.frame.DataFrame'>\n",
      "RangeIndex: 139308 entries, 0 to 139307\n",
      "Data columns (total 8 columns):\n",
      " #   Column          Non-Null Count   Dtype         \n",
      "---  ------          --------------   -----         \n",
      " 0   Province/State  43472 non-null   object        \n",
      " 1   Country/Region  139308 non-null  object        \n",
      " 2   Lat             138320 non-null  float64       \n",
      " 3   Long            138320 non-null  float64       \n",
      " 4   Date            139308 non-null  datetime64[ns]\n",
      " 5   Confirmed       136344 non-null  float64       \n",
      " 6   Deaths          136344 non-null  float64       \n",
      " 7   Recovered       128934 non-null  float64       \n",
      "dtypes: datetime64[ns](1), float64(5), object(2)\n",
      "memory usage: 8.5+ MB\n"
     ]
    }
   ],
   "source": [
    "merged_df.info()"
   ]
  },
  {
   "cell_type": "code",
   "execution_count": 13,
   "id": "7d5f0ebb-e44b-44c4-9e8b-d7d32ec44cf0",
   "metadata": {},
   "outputs": [
    {
     "data": {
      "text/plain": [
       "Province/State    95836\n",
       "Country/Region        0\n",
       "Lat                 988\n",
       "Long                988\n",
       "Date                  0\n",
       "Confirmed          2964\n",
       "Deaths             2964\n",
       "Recovered         10374\n",
       "dtype: int64"
      ]
     },
     "execution_count": 13,
     "metadata": {},
     "output_type": "execute_result"
    }
   ],
   "source": [
    "merged_df.isnull().sum()"
   ]
  },
  {
   "cell_type": "code",
   "execution_count": 14,
   "id": "5bab69fd-c092-4bcc-abdf-0251a2fb16f8",
   "metadata": {},
   "outputs": [],
   "source": [
    "# Check column names to confirm the columns exist\n",
    "\n",
    "# Fill missing values with 0 for the 'Confirmed', 'Deaths', and 'Recovered' columns only\n",
    "merged_df['Confirmed'] = merged_df['Confirmed'].fillna(0)\n",
    "merged_df['Deaths'] = merged_df['Deaths'].fillna(0)\n",
    "merged_df['Recovered'] = merged_df['Recovered'].fillna(0)\n"
   ]
  },
  {
   "cell_type": "code",
   "execution_count": 15,
   "id": "8b97a812-b3e3-41cb-bb55-b09c5e549608",
   "metadata": {},
   "outputs": [
    {
     "data": {
      "text/plain": [
       "Province/State    95836\n",
       "Country/Region        0\n",
       "Lat                 988\n",
       "Long                988\n",
       "Date                  0\n",
       "Confirmed             0\n",
       "Deaths                0\n",
       "Recovered             0\n",
       "dtype: int64"
      ]
     },
     "execution_count": 15,
     "metadata": {},
     "output_type": "execute_result"
    }
   ],
   "source": [
    "merged_df.isnull().sum()"
   ]
  },
  {
   "cell_type": "code",
   "execution_count": 16,
   "id": "fb5cda6b-f165-4d8a-b209-13a6afe41a4e",
   "metadata": {
    "scrolled": true
   },
   "outputs": [],
   "source": [
    "merged_df = merged_df.drop(columns=[\"Province/State\"])"
   ]
  },
  {
   "cell_type": "code",
   "execution_count": 17,
   "id": "56b85ca7-be6b-4740-b23e-7450dd6cfaec",
   "metadata": {},
   "outputs": [
    {
     "name": "stdout",
     "output_type": "stream",
     "text": [
      "<class 'pandas.core.frame.DataFrame'>\n",
      "RangeIndex: 139308 entries, 0 to 139307\n",
      "Data columns (total 7 columns):\n",
      " #   Column          Non-Null Count   Dtype         \n",
      "---  ------          --------------   -----         \n",
      " 0   Country/Region  139308 non-null  object        \n",
      " 1   Lat             138320 non-null  float64       \n",
      " 2   Long            138320 non-null  float64       \n",
      " 3   Date            139308 non-null  datetime64[ns]\n",
      " 4   Confirmed       139308 non-null  float64       \n",
      " 5   Deaths          139308 non-null  float64       \n",
      " 6   Recovered       139308 non-null  float64       \n",
      "dtypes: datetime64[ns](1), float64(5), object(1)\n",
      "memory usage: 7.4+ MB\n"
     ]
    }
   ],
   "source": [
    "merged_df.info()"
   ]
  },
  {
   "cell_type": "code",
   "execution_count": 18,
   "id": "f28cff5d-08c7-48b8-acf5-58b2978878a2",
   "metadata": {},
   "outputs": [
    {
     "data": {
      "text/plain": [
       "Country/Region      0\n",
       "Lat               988\n",
       "Long              988\n",
       "Date                0\n",
       "Confirmed           0\n",
       "Deaths              0\n",
       "Recovered           0\n",
       "dtype: int64"
      ]
     },
     "execution_count": 18,
     "metadata": {},
     "output_type": "execute_result"
    }
   ],
   "source": [
    "merged_df.isnull().sum()"
   ]
  },
  {
   "cell_type": "code",
   "execution_count": 19,
   "id": "04f3774b-4979-4e5e-9cc4-13edd3eda7ae",
   "metadata": {},
   "outputs": [],
   "source": [
    "merged_df.to_csv(\"C:\\\\Users\\\\harsh\\\\OneDrive\\\\Desktop\\\\Data Sets\\\\Covid-19\\\\merged_covid_data.csv\")"
   ]
  }
 ],
 "metadata": {
  "kernelspec": {
   "display_name": "Python 3 (ipykernel)",
   "language": "python",
   "name": "python3"
  },
  "language_info": {
   "codemirror_mode": {
    "name": "ipython",
    "version": 3
   },
   "file_extension": ".py",
   "mimetype": "text/x-python",
   "name": "python",
   "nbconvert_exporter": "python",
   "pygments_lexer": "ipython3",
   "version": "3.9.6"
  }
 },
 "nbformat": 4,
 "nbformat_minor": 5
}
